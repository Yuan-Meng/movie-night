{
 "cells": [
  {
   "cell_type": "code",
   "execution_count": 1,
   "metadata": {},
   "outputs": [],
   "source": [
    "# Import libraries\n",
    "import pandas as pd\n",
    "import numpy as np\n",
    "from collections import defaultdict, Counter\n",
    "import sklearn.model_selection\n",
    "import surprise.model_selection\n",
    "from surprise import accuracy\n",
    "from surprise import dump\n",
    "from surprise import Dataset, Reader, SVD, NormalPredictor\n",
    "from surprise.model_selection import GridSearchCV\n",
    "from surprise.model_selection import cross_validate\n",
    "\n",
    "%load_ext lab_black"
   ]
  },
  {
   "cell_type": "markdown",
   "metadata": {},
   "source": [
    "# Load data and trained model"
   ]
  },
  {
   "cell_type": "code",
   "execution_count": 2,
   "metadata": {},
   "outputs": [],
   "source": [
    "# Load rating and movie data\n",
    "data_df = pd.read_csv(\"ml-latest-small/ratings.csv\")\n",
    "\n",
    "movies_df = pd.read_csv(\"ml-latest-small/movies.csv\")\n",
    "\n",
    "# Load tuned SVD\n",
    "_, svdtuned = dump.load(\"best_svd\")"
   ]
  },
  {
   "cell_type": "markdown",
   "metadata": {},
   "source": [
    "# Make recommendations"
   ]
  },
  {
   "cell_type": "markdown",
   "metadata": {},
   "source": [
    "## For an existing group\n",
    "(Cambridge Spark [tutorial](https://blog.cambridgespark.com/tutorial-practical-introduction-to-recommender-systems-dbe22848392b))"
   ]
  },
  {
   "cell_type": "code",
   "execution_count": 3,
   "metadata": {},
   "outputs": [],
   "source": [
    "# Get a list of users who want to watch a movie together\n",
    "def user_list():\n",
    "\n",
    "    # Create an empty list\n",
    "    id_list = []\n",
    "\n",
    "    # Get number of users\n",
    "    n_user = int(input(\"How many users are watching together: \"))\n",
    "\n",
    "    # Ask for each user's ID\n",
    "    for i in range(0, n_user):\n",
    "        user_id = int(input(\"User #:\"))\n",
    "        id_list.append(user_id)  # Add ID to the list\n",
    "\n",
    "    return id_list"
   ]
  },
  {
   "cell_type": "code",
   "execution_count": 4,
   "metadata": {},
   "outputs": [],
   "source": [
    "# Recommend a list of movies that may be liked by most (if any)\n",
    "def movie_rec():\n",
    "\n",
    "    # Get user ID's\n",
    "    uids = user_list()\n",
    "\n",
    "    # List of all movie ID's\n",
    "    iids = data_df[\"movieId\"].unique()\n",
    "\n",
    "    # List of movies rated by any user\n",
    "    iids_seen = data_df.loc[data_df[\"userId\"].isin(uids), \"movieId\"]\n",
    "\n",
    "    # Remove these movies\n",
    "    iids_to_pred = np.setdiff1d(iids, iids_seen)\n",
    "\n",
    "    # Generate recommendations for each user\n",
    "    rec_list = []\n",
    "\n",
    "    for uid in uids:\n",
    "\n",
    "        # Predict how each user would rate each movie\n",
    "        testset = [[uid, iid, 5.0] for iid in iids_to_pred]\n",
    "        predictions = svdtuned.test(testset)\n",
    "\n",
    "        # Find top 20 movie for each user\n",
    "        pred_ratings = np.array([pred.est for pred in predictions])\n",
    "        top20 = np.argpartition(pred_ratings, -20)[-20:]  # Indices of top 20 ratings\n",
    "        iid_idx = iids_to_pred[top20]  # Corresponding movie ID's\n",
    "        iid_title = movies_df.loc[\n",
    "            movies_df[\"movieId\"].isin(iid_idx), \"title\"\n",
    "        ].tolist()  # List of movie titles\n",
    "        rec_list.append(iid_title)\n",
    "\n",
    "    # Find overlap\n",
    "    rec_flat_list = [item for sublist in rec_list for item in sublist]\n",
    "    rec_counts = Counter(rec_flat_list)\n",
    "\n",
    "    # Make recommendations\n",
    "    if max(rec_counts.values()) == min(rec_counts.values()):\n",
    "        print(\"Oops, these users don't seem to share movie taste!\")\n",
    "    else:\n",
    "        # Iterate over all the items in dictionary to find keys with max value\n",
    "        winner_list = []\n",
    "        for key, value in rec_counts.items():\n",
    "            if value == max(rec_counts.values()):\n",
    "                winner_list.append(key)\n",
    "        print(\n",
    "            f\"Recommended for the group (liked by {max(rec_counts.values())} out of {len(uids)}):\"\n",
    "        )\n",
    "        for winner in winner_list:\n",
    "            print(f\"- {winner}\")"
   ]
  },
  {
   "cell_type": "code",
   "execution_count": 5,
   "metadata": {},
   "outputs": [
    {
     "name": "stdin",
     "output_type": "stream",
     "text": [
      "How many users are watching together:  7\n",
      "User #: 17\n",
      "User #: 3\n",
      "User #: 201\n",
      "User #: 303\n",
      "User #: 5000\n",
      "User #: 80000\n",
      "User #: 1\n"
     ]
    },
    {
     "name": "stdout",
     "output_type": "stream",
     "text": [
      "Recommended for the group (liked by 7 out of 7):\n",
      "- Streetcar Named Desire, A (1951)\n",
      "- Lawrence of Arabia (1962)\n",
      "- Harold and Maude (1971)\n",
      "- Great Escape, The (1963)\n",
      "- Animal House (1978)\n"
     ]
    }
   ],
   "source": [
    "# Try an arbitrary group\n",
    "movie_rec()"
   ]
  },
  {
   "cell_type": "markdown",
   "metadata": {},
   "source": [
    "## For a new group"
   ]
  },
  {
   "cell_type": "code",
   "execution_count": null,
   "metadata": {},
   "outputs": [],
   "source": []
  }
 ],
 "metadata": {
  "kernelspec": {
   "display_name": "Python 3",
   "language": "python",
   "name": "python3"
  },
  "language_info": {
   "codemirror_mode": {
    "name": "ipython",
    "version": 3
   },
   "file_extension": ".py",
   "mimetype": "text/x-python",
   "name": "python",
   "nbconvert_exporter": "python",
   "pygments_lexer": "ipython3",
   "version": "3.7.6"
  }
 },
 "nbformat": 4,
 "nbformat_minor": 4
}
